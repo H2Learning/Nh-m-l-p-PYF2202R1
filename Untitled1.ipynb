{
 "cells": [
  {
   "cell_type": "code",
   "execution_count": 4,
   "id": "d2800129",
   "metadata": {},
   "outputs": [
    {
     "ename": "AttributeError",
     "evalue": "module 'pygame' has no attribute 'done'",
     "output_type": "error",
     "traceback": [
      "\u001b[1;31m---------------------------------------------------------------------------\u001b[0m",
      "\u001b[1;31mAttributeError\u001b[0m                            Traceback (most recent call last)",
      "Input \u001b[1;32mIn [4]\u001b[0m, in \u001b[0;36m<module>\u001b[1;34m\u001b[0m\n\u001b[0;32m      3\u001b[0m screen \u001b[38;5;241m=\u001b[39m pygame\u001b[38;5;241m.\u001b[39mdisplay\u001b[38;5;241m.\u001b[39mset_mode((\u001b[38;5;241m500\u001b[39m,\u001b[38;5;241m600\u001b[39m))\n\u001b[0;32m      4\u001b[0m GREY \u001b[38;5;241m=\u001b[39m (\u001b[38;5;241m120\u001b[39m,\u001b[38;5;241m120\u001b[39m,\u001b[38;5;241m120\u001b[39m)\n\u001b[1;32m----> 5\u001b[0m \u001b[43mpygame\u001b[49m\u001b[38;5;241;43m.\u001b[39;49m\u001b[43mdone\u001b[49m()\n",
      "\u001b[1;31mAttributeError\u001b[0m: module 'pygame' has no attribute 'done'"
     ]
    }
   ],
   "source": [
    "import pygame\n",
    "pygame.init()\n",
    "screen = pygame.display.set_mode((500,600))\n",
    "GREY = (120,120,120)\n",
    "pygame.done()"
   ]
  }
 ],
 "metadata": {
  "kernelspec": {
   "display_name": "Python 3 (ipykernel)",
   "language": "python",
   "name": "python3"
  },
  "language_info": {
   "codemirror_mode": {
    "name": "ipython",
    "version": 3
   },
   "file_extension": ".py",
   "mimetype": "text/x-python",
   "name": "python",
   "nbconvert_exporter": "python",
   "pygments_lexer": "ipython3",
   "version": "3.10.2"
  }
 },
 "nbformat": 4,
 "nbformat_minor": 5
}
