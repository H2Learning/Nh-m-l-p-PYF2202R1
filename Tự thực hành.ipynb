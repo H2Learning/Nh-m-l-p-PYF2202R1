{
 "cells": [
  {
   "cell_type": "code",
   "execution_count": 10,
   "id": "39c9e5e1",
   "metadata": {},
   "outputs": [],
   "source": [
    "from tkinter import *\n",
    "\n",
    "login_window = Tk()  \n",
    "login_window.geometry(\"400x250\")\n",
    "login_window.title(\"Login\")\n",
    "\n",
    "username = Label(login_window, text = \"Username:\").place(x = 30,y = 50)  \n",
    "email = Label(login_window, text = \"Email:\").place(x = 30, y = 90)  \n",
    "password = Label(login_window, text = \"Password:\").place(x = 30, y = 130)\n",
    "\n",
    "entry1 = Entry(login_window).place(x = 100, y = 50)  \n",
    "entry2 = Entry(login_window).place(x = 100, y = 90)  \n",
    "entry3 = Entry(login_window).place(x = 100, y = 130)\n",
    "\n",
    "button1 = Button(login_window, text = \"Login\").place(x = 120, y = 170)\n",
    "\n",
    "login_window.mainloop() "
   ]
  },
  {
   "cell_type": "code",
   "execution_count": null,
   "id": "e1fc7a24",
   "metadata": {},
   "outputs": [],
   "source": []
  }
 ],
 "metadata": {
  "kernelspec": {
   "display_name": "Python 3 (ipykernel)",
   "language": "python",
   "name": "python3"
  },
  "language_info": {
   "codemirror_mode": {
    "name": "ipython",
    "version": 3
   },
   "file_extension": ".py",
   "mimetype": "text/x-python",
   "name": "python",
   "nbconvert_exporter": "python",
   "pygments_lexer": "ipython3",
   "version": "3.10.2"
  }
 },
 "nbformat": 4,
 "nbformat_minor": 5
}
