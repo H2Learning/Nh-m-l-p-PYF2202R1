{
 "cells": [
  {
   "cell_type": "code",
   "execution_count": null,
   "id": "ba91cdf0",
   "metadata": {},
   "outputs": [],
   "source": [
    "# Viết một ứng dụng calculator\n",
    "from tkinter import *\n",
    "windows = Tk()\n",
    "windows.title('Calculator')\n",
    "\n",
    "\n",
    "Calculator_text = Label(windows, text = \"Calculator\")\n",
    "num1_input = Entry(windows)\n",
    "num2_input = Entry(windows)\n",
    "\n",
    "add_btn = Button(windows, text='+')\n",
    "minus_btn = Button(windows, text='-')\n",
    "mul_btn = Button(windows, text='*')\n",
    "divide_btn = Button(windows, text='/')\n",
    "\n",
    "Calculator_text.pack()\n",
    "num1_input.pack()\n",
    "num2_input.pack()\n",
    "\n",
    "add_btn.pack()\n",
    "minus_btn.pack()\n",
    "mul_btn.pack()\n",
    "divide_btn.pack()\n",
    "\n",
    "windows.mainloop()\n"
   ]
  },
  {
   "cell_type": "code",
   "execution_count": null,
   "id": "920b2efa",
   "metadata": {},
   "outputs": [],
   "source": [
    "from tkinter import *\n",
    "\n",
    "windows = Tk()\n",
    "windows.title(\"Simple Calculator\")\n",
    "windows.geometry(\"400x300\")\n",
    "windows.eval('tk::PlaceWindow . center')\n",
    "\n",
    "num1 = Entry(windows)\n",
    "num2 = Entry(windows)\n",
    "\n",
    "result_lbl = Label(windows, text='Result')\n",
    "\n",
    "def add():\n",
    "    result = int(num1.get()) + int(num2.get())\n",
    "    result_lbl.config(text=result)\n",
    "def minus():\n",
    "    result = int(num1.get()) - int(num2.get())\n",
    "    result_lbl.config(text=result)\n",
    "def multiply():\n",
    "    result = int(num1.get()) * int(num2.get())\n",
    "    result_lbl.config(text=result)\n",
    "def divide():\n",
    "    result = int(num1.get())/int(num2.get())\n",
    "    result_lbl.config(text=result)\n",
    "\n",
    "\n",
    "add_btn = Button(windows, text='+', width=10, command=add)\n",
    "minus_btn = Button(windows, text='-', width=10, command=minus)\n",
    "multiply_btn = Button(windows, text='*', width=10, command=multiply)\n",
    "divide_btn = Button(windows, text='/', width=10, command = divide)\n",
    "\n",
    "num1.pack()\n",
    "num2.pack()\n",
    "add_btn.pack()\n",
    "minus_btn.pack()\n",
    "multiply_btn.pack()\n",
    "divide_btn.pack()\n",
    "result_lbl.pack()\n",
    "\n",
    "windows.mainloop()\n"
   ]
  }
 ],
 "metadata": {
  "kernelspec": {
   "display_name": "Python 3 (ipykernel)",
   "language": "python",
   "name": "python3"
  },
  "language_info": {
   "codemirror_mode": {
    "name": "ipython",
    "version": 3
   },
   "file_extension": ".py",
   "mimetype": "text/x-python",
   "name": "python",
   "nbconvert_exporter": "python",
   "pygments_lexer": "ipython3",
   "version": "3.10.2"
  }
 },
 "nbformat": 4,
 "nbformat_minor": 5
}
