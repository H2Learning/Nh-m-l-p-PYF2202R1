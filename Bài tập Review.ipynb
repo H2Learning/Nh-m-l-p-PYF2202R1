{
 "cells": [
  {
   "cell_type": "code",
   "execution_count": 1,
   "id": "c3e2cbbe",
   "metadata": {},
   "outputs": [],
   "source": [
    "# Viêt hàm có dữ liệu đầu vào là 2 số a và b.Số nào lớn hơn thì in ra bảng cửu chương của số đó :"
   ]
  },
  {
   "cell_type": "code",
   "execution_count": 6,
   "id": "f553108e",
   "metadata": {},
   "outputs": [
    {
     "name": "stdout",
     "output_type": "stream",
     "text": [
      "1* 6 = 6\n",
      "2* 6 = 12\n",
      "3* 6 = 18\n",
      "4* 6 = 24\n",
      "5* 6 = 30\n",
      "6* 6 = 36\n",
      "7* 6 = 42\n",
      "8* 6 = 48\n",
      "9* 6 = 54\n",
      "10* 6 = 60\n"
     ]
    }
   ],
   "source": [
    "def calculator(a,b) :\n",
    "    if a > b :\n",
    "        for i in range(1,11) :\n",
    "            print(f\"{i}* {a} = {i*a}\")\n",
    "    else :\n",
    "        for i in range(1,11) :\n",
    "            print(f\"{i}* {b} = {i*b}\")\n",
    "calculator(5,6)"
   ]
  },
  {
   "cell_type": "code",
   "execution_count": 7,
   "id": "bad7501d",
   "metadata": {},
   "outputs": [
    {
     "ename": "SyntaxError",
     "evalue": "invalid syntax (3196857292.py, line 1)",
     "output_type": "error",
     "traceback": [
      "\u001b[1;36m  Input \u001b[1;32mIn [7]\u001b[1;36m\u001b[0m\n\u001b[1;33m    Viết hàm `remove_string` có dữ liệu đầu vào là 2 chuỗi a và b,\u001b[0m\n\u001b[1;37m         ^\u001b[0m\n\u001b[1;31mSyntaxError\u001b[0m\u001b[1;31m:\u001b[0m invalid syntax\n"
     ]
    }
   ],
   "source": [
    "Viết hàm `remove_string` có dữ liệu đầu vào là 2 chuỗi a và b, \n",
    "hãy tìm trong chuỗi a có chuỗi b hay không, nếu có hãy xóa toán bộ chuỗi b trong a.\n",
    "\n",
    "Sau đó trả về chuỗi a mới\n",
    "\n",
    "Ví dụ:\n",
    "\n",
    "chuoi1 = \"xin chào các bạn, các bạn có khỏe không?\"\n",
    "\n",
    "chuoi2 = \"các bạn\"\n",
    "\n",
    "chuoi3 = remove_string(chuoi1,chuoi2)\n",
    "\n",
    "print(chuoi3)\n",
    "\n",
    "Kết quả in ra là:\n",
    "xin chào ,  có khỏe không\n"
   ]
  },
  {
   "cell_type": "code",
   "execution_count": 14,
   "id": "94c9a052",
   "metadata": {},
   "outputs": [
    {
     "data": {
      "text/plain": [
       "'xin chào ,  có khỏe không?'"
      ]
     },
     "execution_count": 14,
     "metadata": {},
     "output_type": "execute_result"
    }
   ],
   "source": [
    "def remove_string(a,b) :\n",
    "    if b in a :\n",
    "        a_new = a.replace(b,\"\")\n",
    "    return a_new\n",
    "remove_string(\"xin chào các bạn, các bạn có khỏe không?\",\"các bạn\")"
   ]
  },
  {
   "cell_type": "code",
   "execution_count": 28,
   "id": "3422253f",
   "metadata": {},
   "outputs": [
    {
     "data": {
      "text/plain": [
       "75"
      ]
     },
     "execution_count": 28,
     "metadata": {},
     "output_type": "execute_result"
    }
   ],
   "source": [
    "# Viết hàm nhận 4 số nguyên và tìm ra số lớn thứ nhì \n",
    "def Find_Max_2nd(a,b,c,d) :\n",
    "    max_2nd = a if a > b else b \n",
    "    max_2nd = max_2nd if max_2nd > c else c \n",
    "    max_2nd = max_2nd if max_2nd < d else d \n",
    "    return max_2nd\n",
    "Find_Max_2nd(76,41,95,75)"
   ]
  },
  {
   "cell_type": "code",
   "execution_count": 29,
   "id": "49023656",
   "metadata": {},
   "outputs": [
    {
     "data": {
      "text/plain": [
       "9"
      ]
     },
     "execution_count": 29,
     "metadata": {},
     "output_type": "execute_result"
    }
   ],
   "source": [
    "def runner_up(a,b,c,d):\n",
    "        x = [a,b,c,d]\n",
    "        x.sort()\n",
    "        return x[-2]\n",
    "\n",
    "runner_up(1,13,4,9)"
   ]
  },
  {
   "cell_type": "code",
   "execution_count": 52,
   "id": "a858f1b4",
   "metadata": {},
   "outputs": [
    {
     "data": {
      "text/plain": [
       "['Finland',\n",
       " 'Taiwan',\n",
       " 'Japan',\n",
       " 'Russia',\n",
       " 'Brazil',\n",
       " 'Canada',\n",
       " 'Bulgaria',\n",
       " 'France',\n",
       " 'Greece',\n",
       " 'United States']"
      ]
     },
     "execution_count": 52,
     "metadata": {},
     "output_type": "execute_result"
    }
   ],
   "source": [
    "def Find_nation(treepersqkm) :\n",
    "    result= []\n",
    "    for key in treepersqkm :\n",
    "        if treepersqkm[key] > 20000 :\n",
    "            result.append(key)\n",
    "    return result\n",
    "Find_nation({\"Finland\": 90652, \"Taiwan\": 69593, \"Japan\": 49894, \"Russia\": 41396, \"Brazil\": 39542, \"Canada\": 36388, \"Bulgaria\": 24987, \"France\": 24436, \"Greece\": 24323, \"United States\": 23513, \"Turkey\": 11126, \"India\": 11109, \"Denmark\": 6129, \"Syria\": 534, \"Saudi Arabia\": 1}\n",
    ")"
   ]
  },
  {
   "cell_type": "code",
   "execution_count": 41,
   "id": "5ec925ed",
   "metadata": {},
   "outputs": [
    {
     "data": {
      "text/plain": [
       "['Finland',\n",
       " 'Taiwan',\n",
       " 'Japan',\n",
       " 'Russia',\n",
       " 'Brazil',\n",
       " 'Canada',\n",
       " 'Bulgaria',\n",
       " 'France',\n",
       " 'Greece',\n",
       " 'United States']"
      ]
     },
     "execution_count": 41,
     "metadata": {},
     "output_type": "execute_result"
    }
   ],
   "source": [
    "treepersqkm = {\"Finland\": 90652, \"Taiwan\": 69593, \"Japan\": 49894, \"Russia\": 41396, \"Brazil\": 39542, \"Canada\": 36388, \"Bulgaria\": 24987, \"France\": 24436, \"Greece\": 24323, \"United States\": 23513, \"Turkey\": 11126, \"India\": 11109, \"Denmark\": 6129, \"Syria\": 534, \"Saudi Arabia\": 1}\n",
    "\n",
    "def more_than_2k(a):\n",
    "    b = []\n",
    "    for country in a:\n",
    "        if a[country] > 20000:\n",
    "            b.append(country)\n",
    "    return b\n",
    "\n",
    "more_than_2k(treepersqkm)"
   ]
  }
 ],
 "metadata": {
  "kernelspec": {
   "display_name": "Python 3 (ipykernel)",
   "language": "python",
   "name": "python3"
  },
  "language_info": {
   "codemirror_mode": {
    "name": "ipython",
    "version": 3
   },
   "file_extension": ".py",
   "mimetype": "text/x-python",
   "name": "python",
   "nbconvert_exporter": "python",
   "pygments_lexer": "ipython3",
   "version": "3.10.2"
  }
 },
 "nbformat": 4,
 "nbformat_minor": 5
}
