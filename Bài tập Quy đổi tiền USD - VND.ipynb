{
 "cells": [
  {
   "cell_type": "code",
   "execution_count": 5,
   "id": "95ffc0d7",
   "metadata": {},
   "outputs": [
    {
     "name": "stdout",
     "output_type": "stream",
     "text": [
      "Nhập số tiền USD cần đổi : 34\n",
      "Nhập tỉ giá USD/VND : 54\n",
      "Số tiền sau khi quy đổi là 1836.0 Đồng\n"
     ]
    }
   ],
   "source": [
    "# Bài tập quy đổi USD ra VND \n",
    "Usd = int(input(\"Nhập số tiền USD cần đổi : \"))\n",
    "per = float(input(\"Nhập tỉ giá USD/VND : \"))\n",
    "vnd = Usd*per\n",
    "print(f\"Số tiền sau khi quy đổi là {vnd} Đồng\")"
   ]
  },
  {
   "cell_type": "code",
   "execution_count": 6,
   "id": "5dde21b2",
   "metadata": {},
   "outputs": [
    {
     "ename": "SyntaxError",
     "evalue": "unterminated string literal (detected at line 1) (3789611298.py, line 1)",
     "output_type": "error",
     "traceback": [
      "\u001b[1;36m  Input \u001b[1;32mIn [6]\u001b[1;36m\u001b[0m\n\u001b[1;33m    tring = \"helloword'\u001b[0m\n\u001b[1;37m            ^\u001b[0m\n\u001b[1;31mSyntaxError\u001b[0m\u001b[1;31m:\u001b[0m unterminated string literal (detected at line 1)\n"
     ]
    }
   ],
   "source": [
    "tring = \"helloword'\n",
    "print(string)"
   ]
  }
 ],
 "metadata": {
  "kernelspec": {
   "display_name": "Python 3 (ipykernel)",
   "language": "python",
   "name": "python3"
  },
  "language_info": {
   "codemirror_mode": {
    "name": "ipython",
    "version": 3
   },
   "file_extension": ".py",
   "mimetype": "text/x-python",
   "name": "python",
   "nbconvert_exporter": "python",
   "pygments_lexer": "ipython3",
   "version": "3.10.2"
  }
 },
 "nbformat": 4,
 "nbformat_minor": 5
}
