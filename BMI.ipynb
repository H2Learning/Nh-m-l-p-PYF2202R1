{
 "cells": [
  {
   "cell_type": "code",
   "execution_count": null,
   "id": "d6f3211b",
   "metadata": {},
   "outputs": [],
   "source": [
    "from tkinter import *\n",
    "from tkinter import messagebox\n",
    "windows = Tk()\n",
    "windows.title(\"My BMI\")\n",
    "windows.geometry(\"400x300\")\n",
    "windows.eval('tk::PlaceWindow . center')\n",
    "\n",
    "BMI_lbl = Label(windows,text = 'BMI calculator')\n",
    "Myweight_lbl = Label(windows,text = 'Myweight(kg) :')\n",
    "Myhight_lbl = Label(windows, text = 'Myhight(m) :')\n",
    "\n",
    "Myweight = Entry(windows)\n",
    "Myhight = Entry(windows)\n",
    "def submit() :\n",
    "    result = round(float(Myweight.get())/((float(Myhight.get()))**2),2)\n",
    "submit_btn =Button(windows,text = 'submit',command =submit)\n",
    "\n",
    "BMI_lbl.grid(row = 0, column = 0 ,columnspan = 2)\n",
    "Myweight_lbl.grid(row = 1 ,column = 0)\n",
    "Myhight_lbl.grid(row = 2 ,column = 0)\n",
    "Myweight.grid(row = 1,column = 1)\n",
    "Myhight.grid(row = 2, column = 1)\n",
    "submit_btn.grid(row = 3,column = 1)\n",
    "windows.mainloop()"
   ]
  }
 ],
 "metadata": {
  "kernelspec": {
   "display_name": "Python 3 (ipykernel)",
   "language": "python",
   "name": "python3"
  },
  "language_info": {
   "codemirror_mode": {
    "name": "ipython",
    "version": 3
   },
   "file_extension": ".py",
   "mimetype": "text/x-python",
   "name": "python",
   "nbconvert_exporter": "python",
   "pygments_lexer": "ipython3",
   "version": "3.10.2"
  }
 },
 "nbformat": 4,
 "nbformat_minor": 5
}
