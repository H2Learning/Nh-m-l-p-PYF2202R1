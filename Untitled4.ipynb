{
 "cells": [
  {
   "cell_type": "markdown",
   "id": "97f91645",
   "metadata": {},
   "source": [
    "Xây dựng hàm vẽ hình tròn với tham số là bán kính. Xây dựng tiếp hàm tính diện tích hình tròn với tham số là bán kính hình tròn. Sau khi các hàm được xây dựng xong, tiến hành gọi các hàm với giá trị bán kính được nhập bởi người dùng."
   ]
  },
  {
   "cell_type": "code",
   "execution_count": 5,
   "id": "1d15b082",
   "metadata": {},
   "outputs": [
    {
     "name": "stdout",
     "output_type": "stream",
     "text": [
      "Xin mời nhập vào n : 30\n"
     ]
    },
    {
     "data": {
      "text/plain": [
       "2826.0"
      ]
     },
     "execution_count": 5,
     "metadata": {},
     "output_type": "execute_result"
    }
   ],
   "source": [
    "import turtle\n",
    "\n",
    "t = turtle.Turtle()\n",
    "t.hideturtle()\n",
    "t.pencolor('blue')\n",
    "t.pensize(5)\n",
    "\n",
    "def draw_circle(r):\n",
    "    t.circle(r)\n",
    "    turtle.done()\n",
    "def Calculator(r):\n",
    "    S = (r**2)*3.14\n",
    "    return S\n",
    "r = int(input('Xin mời nhập vào n : '))\n",
    "draw_circle(r)\n",
    "Calculator(r)"
   ]
  },
  {
   "cell_type": "code",
   "execution_count": null,
   "id": "b041befe",
   "metadata": {},
   "outputs": [],
   "source": [
    "''Hướng dẫn\n",
    "Xây dựng hàm vẽ hình chữ nhật với tham số là các cạnh, màu tô của hình chữ nhật đó.\n",
    "\n",
    "Gọi hàm vẽ chữ nhật, vẽ hình chữ nhật ở các vị trí khác nhau, tạo ra hình cần vẽ \n",
    "\n",
    "Để hoàn thành bài tập, học viên cần:\n",
    "\n",
    "Đưa mã nguồn lên GitHub\n",
    "Dán link của repository lên phần nộp bài''\n"
   ]
  },
  {
   "cell_type": "code",
   "execution_count": null,
   "id": "b70abd8b",
   "metadata": {},
   "outputs": [],
   "source": [
    "import turtle\n",
    "\n",
    "t = turtle.Turtle()\n",
    "t.hideturtle()\n",
    "t.pencolor('blue')\n",
    "t.pensize(5)\n",
    "def Draw_square(n):\n",
    "    t.fillcolor('Red')\n",
    "    t.begin_fill()\n",
    "    for i in range(4):\n",
    "        t.forward(n)\n",
    "        t.right(90)\n",
    "    t.end_fill()\n",
    "    \n",
    "    turtle.done()\n",
    "Draw_square(100)"
   ]
  }
 ],
 "metadata": {
  "kernelspec": {
   "display_name": "Python 3 (ipykernel)",
   "language": "python",
   "name": "python3"
  },
  "language_info": {
   "codemirror_mode": {
    "name": "ipython",
    "version": 3
   },
   "file_extension": ".py",
   "mimetype": "text/x-python",
   "name": "python",
   "nbconvert_exporter": "python",
   "pygments_lexer": "ipython3",
   "version": "3.10.2"
  }
 },
 "nbformat": 4,
 "nbformat_minor": 5
}
