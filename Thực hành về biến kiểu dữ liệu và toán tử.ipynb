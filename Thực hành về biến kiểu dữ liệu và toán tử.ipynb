{
 "cells": [
  {
   "cell_type": "code",
   "execution_count": 2,
   "id": "99d45e2b",
   "metadata": {},
   "outputs": [],
   "source": [
    "#Thực hành vẽ mặt cười \n",
    "import turtle\n",
    "pen = turtle.Turtle()\n",
    "pen.pensize(5)\n",
    "pen.pencolor(\"#EE340C\")\n",
    "pen.shape(\"circle\")\n",
    "pen.penup()\n",
    "pen.goto(0, - 200)\n",
    "facesize = 200\n",
    "eye_size = 15\n",
    "nose_size = 70\n",
    "pen.pendown\n",
    "pen.pencircle(facesize)\n",
    "\n",
    "pen.penup()\n",
    "pen.goto(- 50, 100)\n",
    "#draw an eye\n",
    "pen.pendown\n",
    "\n",
    "turtle.done()"
   ]
  },
  {
   "cell_type": "code",
   "execution_count": null,
   "id": "6c7770ef",
   "metadata": {},
   "outputs": [],
   "source": [
    "import turtle\n",
    "#define pen size\n",
    "turtle.pensize(5) \n",
    "#define pen color\n",
    "turtle.pencolor(\"#0CEE4C\") \n",
    "#for outer bigger circle\n",
    "facesize = 200\n",
    "turtle.penup()\n",
    "turtle.goto(0, -200)\n",
    "turtle.pendown()\n",
    "turtle.circle(facesize)\n",
    "#for eyes\n",
    "#Màu nền mắt là màu đỏ\n",
    "turtle.fillcolor (\"#0CEE4C\")\n",
    "turtle.penup()\n",
    "turtle.goto(-100,50)\n",
    "turtle.pendown()\n",
    " \n",
    "# khai bao bien eyesize lưu kích thước mắt\n",
    "eye_size = 17.5\n",
    " \n",
    "turtle.begin_fill()\n",
    "turtle.circle(eye_size)\n",
    "turtle.end_fill()\n",
    "turtle.penup()\n",
    " \n",
    "turtle.goto(100,50)\n",
    "turtle.pendown()\n",
    "turtle.begin_fill()\n",
    "turtle.circle(eye_size)\n",
    "turtle.end_fill()\n",
    "#for nose\n",
    "turtle.penup ()\n",
    "turtle.goto(0,50)\n",
    "turtle.pendown()\n",
    "turtle.circle(-70, steps=3)\n",
    "# for smile\n",
    "turtle.penup()\n",
    "turtle.goto(-100, -70)\n",
    "turtle.pendown()\n",
    "turtle.right(90)\n",
    "turtle.circle(100,180)\n",
    "turtle.mainloop()\n",
    "turtle.done()"
   ]
  },
  {
   "cell_type": "code",
   "execution_count": 21,
   "id": "b1830181",
   "metadata": {},
   "outputs": [
    {
     "name": "stdout",
     "output_type": "stream",
     "text": [
      " Diện tích của tam giác là  16.24807680927192\n",
      " Chu vi của tam giác là  11.0\n",
      "diện tích hình vuông 225\n",
      "diện tích hình chữ nhật 300\n"
     ]
    }
   ],
   "source": [
    "#Thực hành tính diện tích của tam giác.\n",
    "a = 10\n",
    "b = 5\n",
    "c = 7\n",
    "p = (a + b +c)/2\n",
    "s = (p *(p-a)*(p-b)*(p-c))**0.5 \n",
    "print(\" Diện tích của tam giác là \", s)\n",
    "print(\" Chu vi của tam giác là \", p)\n",
    "#Thực hành tính diện tích của hình vuông ,hình chữ nhật\n",
    "a = 15\n",
    "b = 20\n",
    "S_hinhvuong = a**2\n",
    "S_Hinhchunhat = a*b\n",
    "print(\"diện tích hình vuông\",S_hinhvuong)\n",
    "print(\"diện tích hình chữ nhật\",S_Hinhchunhat)\n"
   ]
  },
  {
   "cell_type": "code",
   "execution_count": null,
   "id": "7d711f6b",
   "metadata": {},
   "outputs": [],
   "source": [
    "# tính tổng của Biểu thức n**2 + (n+1)**3 + (n+2)**4 + (n+3)**5"
   ]
  },
  {
   "cell_type": "code",
   "execution_count": 26,
   "id": "15f3da4e",
   "metadata": {},
   "outputs": [
    {
     "ename": "IndentationError",
     "evalue": "expected an indented block after 'if' statement on line 3 (531595670.py, line 4)",
     "output_type": "error",
     "traceback": [
      "\u001b[1;36m  Input \u001b[1;32mIn [26]\u001b[1;36m\u001b[0m\n\u001b[1;33m    s == s + (n+1)**2\u001b[0m\n\u001b[1;37m    ^\u001b[0m\n\u001b[1;31mIndentationError\u001b[0m\u001b[1;31m:\u001b[0m expected an indented block after 'if' statement on line 3\n"
     ]
    }
   ],
   "source": [
    "n = 3\n",
    "s = n ** 2\n",
    "if n == n + 1 and n < 10 :\n",
    "s == s + (n+1)**2\n",
    "else\n",
    "print(\"giá trị của biểu thức là\",s )"
   ]
  },
  {
   "cell_type": "code",
   "execution_count": null,
   "id": "6c38a07f",
   "metadata": {},
   "outputs": [],
   "source": []
  }
 ],
 "metadata": {
  "kernelspec": {
   "display_name": "Python 3 (ipykernel)",
   "language": "python",
   "name": "python3"
  },
  "language_info": {
   "codemirror_mode": {
    "name": "ipython",
    "version": 3
   },
   "file_extension": ".py",
   "mimetype": "text/x-python",
   "name": "python",
   "nbconvert_exporter": "python",
   "pygments_lexer": "ipython3",
   "version": "3.10.2"
  }
 },
 "nbformat": 4,
 "nbformat_minor": 5
}
