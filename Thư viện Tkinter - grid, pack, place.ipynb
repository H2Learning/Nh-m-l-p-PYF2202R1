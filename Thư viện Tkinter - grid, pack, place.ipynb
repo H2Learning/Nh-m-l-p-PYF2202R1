{
 "cells": [
  {
   "cell_type": "code",
   "execution_count": null,
   "id": "334dfc6d",
   "metadata": {},
   "outputs": [],
   "source": [
    "def calculator(a, b):\n",
    "    sum = a + b\n",
    "    sub = a - b\n",
    "    mul = a * b\n",
    "    return sum, sub, mul\n",
    "\n",
    "\n",
    "sum, sub, mul = calculator(10, 3)\n",
    "print(sum, sub, mul)"
   ]
  },
  {
   "cell_type": "code",
   "execution_count": null,
   "id": "bd87a9ec",
   "metadata": {},
   "outputs": [],
   "source": [
    "def calculator(a, b):\n",
    "    sum = a + b\n",
    "    sub = a - b\n",
    "    mul = a * b\n",
    "    print(sum, sub, mul)\n",
    "\n",
    "\n",
    "a = calculator(10, 3)\n",
    "print(a)"
   ]
  },
  {
   "cell_type": "code",
   "execution_count": null,
   "id": "3940a364",
   "metadata": {},
   "outputs": [],
   "source": [
    "import turtle\n",
    "t = turtle.Turtle()\n",
    "t.hideturtle()\n",
    "t.pencolor(\"Red\")\n",
    "def square_draw(w):\n",
    "    for i in range(4):\n",
    "        t.forward(w)\n",
    "        t.right(90)\n",
    "    turtle.done()\n",
    "square_draw(100)"
   ]
  },
  {
   "cell_type": "markdown",
   "id": "8dbe9992",
   "metadata": {},
   "source": [
    "Xây dựng hàm vẽ hình đa giác đều với tham số là số cạnh của đa giác, và chiều dài của các cạnh. Sau khi hàm được xây dựng xong, tiến hành gọi hàm với các giá trị tham số khác nhau.\n",
    "- n là số cạnh của đa giác đều\n",
    "withd là chiều dài của các cạnh (w)\n",
    "giá trị mỗi góc của tam giác được tính bằng công thức angel = (n-2)*180/n = 180 - (360/n)\n",
    "vd : Tam giác = 60,tứ giác = 90 ,ngũ giác = 108 "
   ]
  },
  {
   "cell_type": "markdown",
   "id": "a043fb91",
   "metadata": {},
   "source": [
    "import turtle\n",
    "t = turtle.Turtle()\n",
    "t.hideturtle()\n",
    "t.pencolor('red')\n",
    "def draw(n, width=100):\n",
    "    \"\"\"Hàm vẽ hình đa giác đều\n",
    "    n - số cạnh của đa giác đều,\n",
    "    width - chiều dài của các cạnh\n",
    "    \"\"\"\n",
    "    # Giá trị mỗi góc của đa giác\n",
    "    angle = (n - 2) * 180 / n\n",
    "    for i in range(n):\n",
    "        t.forward(width)\n",
    "        t.left(180-angle)\n",
    "\n",
    "    turtle.done()\n",
    "draw(3, 100)"
   ]
  },
  {
   "cell_type": "markdown",
   "id": "4c559a90",
   "metadata": {},
   "source": [
    "## pack\n",
    "\n",
    "Lệnh `pack()` sẽ giúp sắp xếp các đối tượng theo thứ tự nhất định"
   ]
  },
  {
   "cell_type": "code",
   "execution_count": null,
   "id": "d6af98e3",
   "metadata": {},
   "outputs": [],
   "source": []
  },
  {
   "cell_type": "markdown",
   "id": "0093b00d",
   "metadata": {},
   "source": [
    "## grid"
   ]
  },
  {
   "cell_type": "code",
   "execution_count": null,
   "id": "d89cd306",
   "metadata": {},
   "outputs": [],
   "source": []
  },
  {
   "cell_type": "markdown",
   "id": "f0a05577",
   "metadata": {},
   "source": [
    "## place"
   ]
  },
  {
   "cell_type": "code",
   "execution_count": null,
   "id": "070e6374",
   "metadata": {},
   "outputs": [],
   "source": []
  }
 ],
 "metadata": {
  "kernelspec": {
   "display_name": "Python 3 (ipykernel)",
   "language": "python",
   "name": "python3"
  },
  "language_info": {
   "codemirror_mode": {
    "name": "ipython",
    "version": 3
   },
   "file_extension": ".py",
   "mimetype": "text/x-python",
   "name": "python",
   "nbconvert_exporter": "python",
   "pygments_lexer": "ipython3",
   "version": "3.10.2"
  }
 },
 "nbformat": 4,
 "nbformat_minor": 5
}
