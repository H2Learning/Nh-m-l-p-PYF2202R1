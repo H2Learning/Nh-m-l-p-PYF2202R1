{
 "cells": [
  {
   "cell_type": "code",
   "execution_count": null,
   "id": "b6336f89",
   "metadata": {},
   "outputs": [],
   "source": [
    "import turtle\n",
    "pen = turtle.Turtle()\n",
    "pen.pensize(5)\n",
    "pen.pencolor(\"red\")\n",
    "pen.fillcolor(\"blue\")\n",
    "pen.begin_fill()\n",
    "pen.circle(100)\n",
    "pen.end_fill()\n",
    "pen.penup()\n",
    "pen.goto(-300,-300)\n",
    "pen.pendown()\n",
    "pen.pensize(5)\n",
    "pen.pencolor(\"blue\")\n",
    "pen.fillcolor(\"red\")\n",
    "pen.begin_fill()\n",
    "pen.circle(150)\n",
    "pen.end_fill()\n",
    "turtle.done()"
   ]
  }
 ],
 "metadata": {
  "kernelspec": {
   "display_name": "Python 3 (ipykernel)",
   "language": "python",
   "name": "python3"
  },
  "language_info": {
   "codemirror_mode": {
    "name": "ipython",
    "version": 3
   },
   "file_extension": ".py",
   "mimetype": "text/x-python",
   "name": "python",
   "nbconvert_exporter": "python",
   "pygments_lexer": "ipython3",
   "version": "3.10.2"
  }
 },
 "nbformat": 4,
 "nbformat_minor": 5
}
