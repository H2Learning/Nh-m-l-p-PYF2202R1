{
 "cells": [
  {
   "cell_type": "code",
   "execution_count": 4,
   "id": "368aa696",
   "metadata": {},
   "outputs": [
    {
     "name": "stdout",
     "output_type": "stream",
     "text": [
      "['PHP', 'insert', 'C#', 'Java', 'Android', 'golang']\n"
     ]
    }
   ],
   "source": [
    "languages = [\"PHP\", \"Python\", \"C#\", \"Java\", \"Android\"]\n",
    "languages.append(\"golang\")\n",
    "languages.insert(1,\"Ruby\")\n",
    "languages[1]='insert'\n",
    "del languages[2]\n",
    "print(languages)"
   ]
  }
 ],
 "metadata": {
  "kernelspec": {
   "display_name": "Python 3 (ipykernel)",
   "language": "python",
   "name": "python3"
  },
  "language_info": {
   "codemirror_mode": {
    "name": "ipython",
    "version": 3
   },
   "file_extension": ".py",
   "mimetype": "text/x-python",
   "name": "python",
   "nbconvert_exporter": "python",
   "pygments_lexer": "ipython3",
   "version": "3.10.2"
  }
 },
 "nbformat": 4,
 "nbformat_minor": 5
}
