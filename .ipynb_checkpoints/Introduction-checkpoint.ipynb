{
 "cells": [
  {
   "cell_type": "code",
   "execution_count": null,
   "id": "71c3024e",
   "metadata": {},
   "outputs": [],
   "source": [
    "from tkinter import *\n",
    "windows = Tk()\n",
    "windows.title(\"My intro\")\n",
    "windows.geometry(\"400x300\")\n",
    "windows.eval('tk::PlaceWindow . center')\n",
    "\n",
    "intro_lbl = Label(windows,text = 'My introduction')\n",
    "firstname_lbl = Label(windows,text = 'firstname :')\n",
    "lastname_lbl = Label(windows, text = 'Lastname :')\n",
    "\n",
    "firstname = Entry(windows)\n",
    "lastname = Entry(windows)\n",
    "def submit() :\n",
    "    content = 'my name is ' + firstname.get() + lastname.get()\n",
    "    intro_lbl.config(text=content)\n",
    "submit_btn =Button(windows,text = 'submit',command =submit)\n",
    "\n",
    "intro_lbl.grid(row = 0, column = 0 ,columnspan = 2)\n",
    "firstname_lbl.grid(row = 1 ,column = 0)\n",
    "lastname_lbl.grid(row = 2 ,column = 0)\n",
    "firstname.grid(row = 1,column = 1)\n",
    "lastname.grid(row = 2, column = 1)\n",
    "submit_btn.grid(row = 3,column = 2)\n",
    "windows.mainloop()\n"
   ]
  }
 ],
 "metadata": {
  "kernelspec": {
   "display_name": "Python 3 (ipykernel)",
   "language": "python",
   "name": "python3"
  },
  "language_info": {
   "codemirror_mode": {
    "name": "ipython",
    "version": 3
   },
   "file_extension": ".py",
   "mimetype": "text/x-python",
   "name": "python",
   "nbconvert_exporter": "python",
   "pygments_lexer": "ipython3",
   "version": "3.10.2"
  }
 },
 "nbformat": 4,
 "nbformat_minor": 5
}
