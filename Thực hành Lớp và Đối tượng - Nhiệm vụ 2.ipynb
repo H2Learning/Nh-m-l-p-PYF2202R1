{
 "cells": [
  {
   "cell_type": "code",
   "execution_count": null,
   "id": "1b7705b3",
   "metadata": {},
   "outputs": [],
   "source": [
    "\"\"\"\n",
    "Viết class NhanVien gồm các thuộc tính:\n",
    "+ Tên\n",
    "+ Tuổi\n",
    "+ Địa chỉ\n",
    "+ Tiền lương\n",
    "+ Tổng số giờ làm\n",
    "\n",
    "Và các phương thức:\n",
    "- Phương thức tạo\n",
    "- input_info() : Nhập các thông tin cho nhân viên từ bàn phím\n",
    "- print_info() : In ra tất cả các thông tin của nhân viên\n",
    "- tinh_thuong(): Tính toán và trả về số tiền thưởng của nhân viên theo công thức sau:\n",
    "Nếu tổng số giờ làm của nhân viên >=200 thì thưởng = lương * 20%\n",
    "Nếu tổng số giờ làm của nhân viên <200 và >=100 thì thưởng = lương * 10%\n",
    "Nếu tổng số giờ làm của nhân viên <100 thì thưởng = 0\n",
    "\"\"\""
   ]
  },
  {
   "cell_type": "code",
   "execution_count": null,
   "id": "3cf0f41d",
   "metadata": {},
   "outputs": [],
   "source": [
    "class staff:\n",
    "    def __init__(self):\n",
    "        self.name = ''\n",
    "        self.age = 0\n",
    "        self.address = ''\n",
    "        self.salary = 0\n",
    "        self.time_work_total = 0\n",
    "    def input_infor(self) :\n",
    "        self.name = input(\"Xin mời nhập vào tên nhân viên\")\n",
    "        self.age = input(\"Xin mời nhập vào tuổi nhân viên\")\n",
    "        self.address = input(\"Xin mời nhập vào địa chỉ nhân viên\")\n",
    "        self.salary = input(\"Xin mời nhập vào Lương nhân viên\")\n",
    "        self.time_work_total = input(\"Xin mời nhập vào Tổng số giờ làm  nhân viên\")\n",
    "    def print_infor(self):\n",
    "        print(f\"tên nhân viên{self.name}\")\n",
    "        print(f\"tuổi nhân viên{self.age}\")\n",
    "        print(f\"Địa chỉ nhân viên{self.address}\")\n",
    "        print(f\"Lương nhân viên{self.adress}\")\n",
    "        print(f\"Tổng số giờ làm nhân viên{self.time_work_total}\")\n",
    "    def tinh_thuong(self) :\n",
    "        if self.time_work_total >= 200 :\n",
    "            return self.salary * 0.2\n",
    "        if 100 <= self.time_work_total <= 200 :\n",
    "            return self.salary * 0.1\n",
    "        if self.time_work_total <= 100 :\n",
    "            return 0\n",
    "hung = staff()  \n",
    "    "
   ]
  },
  {
   "cell_type": "code",
   "execution_count": 6,
   "id": "20101893",
   "metadata": {},
   "outputs": [
    {
     "name": "stdout",
     "output_type": "stream",
     "text": [
      "Xin mời nhập vào tên nhân viên: Hùng\n",
      "Xin mời nhập vào tuổi nhân viên: 27\n",
      "Xin mời nhập vào địa chỉ nhân viên: Vĩnh Phúc\n",
      "Xin mời nhập vào Lương nhân viên: 1000000\n",
      "Xin mời nhập vào Tổng số giờ làm  nhân viên: 230\n",
      "tên nhân viên Hùng\n",
      "tuổi nhân viên 27\n",
      "Địa chỉ nhân viên Vĩnh Phúc\n",
      "Lương nhân viên 1000000.0\n",
      "Tổng số giờ làm nhân viên 230.0\n"
     ]
    },
    {
     "data": {
      "text/plain": [
       "200000.0"
      ]
     },
     "execution_count": 6,
     "metadata": {},
     "output_type": "execute_result"
    }
   ],
   "source": [
    "class staff:\n",
    "    def __init__(self) :\n",
    "        self.name = \"\"\n",
    "        self.age = 0\n",
    "        self.address = \"\"\n",
    "        self.salary = 0\n",
    "        self.time_work_total = 0\n",
    "    def input_infor(self) :\n",
    "        self.name = input(\"Xin mời nhập vào tên nhân viên: \")\n",
    "        self.age = int(input(\"Xin mời nhập vào tuổi nhân viên: \"))\n",
    "        self.address = input(\"Xin mời nhập vào địa chỉ nhân viên: \")\n",
    "        self.salary = float(input(\"Xin mời nhập vào Lương nhân viên: \"))\n",
    "        self.time_work_total = float(input(\"Xin mời nhập vào Tổng số giờ làm  nhân viên: \"))\n",
    "    def print_infor(self):\n",
    "        print(f\"tên nhân viên {self.name}\")\n",
    "        print(f\"tuổi nhân viên {self.age}\")\n",
    "        print(f\"Địa chỉ nhân viên {self.address}\")\n",
    "        print(f\"Lương nhân viên {self.salary}\")\n",
    "        print(f\"Tổng số giờ làm nhân viên {self.time_work_total}\")\n",
    "    def tinh_thuong(self) :\n",
    "        if self.time_work_total >= 200 :\n",
    "            return self.salary * 0.2\n",
    "        if 100 <= self.time_work_total <= 200 :\n",
    "            return self.salary * 0.1\n",
    "        if self.time_work_total <= 100 :\n",
    "            return 0\n",
    "call = staff()  \n",
    "call.input_infor()\n",
    "call.print_infor()\n",
    "call.tinh_thuong()"
   ]
  }
 ],
 "metadata": {
  "kernelspec": {
   "display_name": "Python 3 (ipykernel)",
   "language": "python",
   "name": "python3"
  },
  "language_info": {
   "codemirror_mode": {
    "name": "ipython",
    "version": 3
   },
   "file_extension": ".py",
   "mimetype": "text/x-python",
   "name": "python",
   "nbconvert_exporter": "python",
   "pygments_lexer": "ipython3",
   "version": "3.10.2"
  }
 },
 "nbformat": 4,
 "nbformat_minor": 5
}
