{
 "cells": [
  {
   "cell_type": "code",
   "execution_count": 1,
   "id": "a42fa0c7",
   "metadata": {},
   "outputs": [
    {
     "data": {
      "text/plain": [
       "'\\nTạo class có tên SoHoc gồm có các thuộc tính và phương thức sau:\\n+ Thuộc tính: number1, number2\\n+ Phương thức:\\n- Phương thức tạo __init()__\\n- input_info(): dùng để nhập 2 số number1, number2\\n- print_info(): dùng để hiển thị number1, number2\\n- addition(): dùng để cộng number1, number2\\n- subtract(): trừ number1, number2\\n- multi(): dùng để nhân number1, number2\\n- division(): dùng để chia number1, number2.\\n\\nSau khi tạo class, khởi tạo một object SoHoc và in ra kết quả tính toán từ các hàm thực hiện phép tính\\n'"
      ]
     },
     "execution_count": 1,
     "metadata": {},
     "output_type": "execute_result"
    }
   ],
   "source": [
    "\"\"\"\n",
    "Tạo class có tên SoHoc gồm có các thuộc tính và phương thức sau:\n",
    "+ Thuộc tính: number1, number2\n",
    "+ Phương thức:\n",
    "- Phương thức tạo __init()__\n",
    "- input_info(): dùng để nhập 2 số number1, number2\n",
    "- print_info(): dùng để hiển thị number1, number2\n",
    "- addition(): dùng để cộng number1, number2\n",
    "- subtract(): trừ number1, number2\n",
    "- multi(): dùng để nhân number1, number2\n",
    "- division(): dùng để chia number1, number2.\n",
    "\n",
    "Sau khi tạo class, khởi tạo một object SoHoc và in ra kết quả tính toán từ các hàm thực hiện phép tính\n",
    "\"\"\""
   ]
  },
  {
   "cell_type": "code",
   "execution_count": 15,
   "id": "0d414bad",
   "metadata": {},
   "outputs": [
    {
     "name": "stdout",
     "output_type": "stream",
     "text": [
      "Nhập vào số thứ 1 : 34\n",
      "Nhập vào số thứ 2 : 23\n",
      "số thứ 1 34\n",
      "số thứ 2 23\n",
      "Tổng 2 số là 57\n",
      "Hiệu 2 số là 11\n",
      "Tích 2 số là 782\n",
      "thương  2 số là 1.48\n"
     ]
    }
   ],
   "source": [
    "class Sohoc :\n",
    "    def __init__(self):\n",
    "        self.number1 = 0\n",
    "        self.number2 = 0\n",
    "    def input_infor(self):\n",
    "        self.number1 = int(input(\"Nhập vào số thứ 1 : \"))\n",
    "        self.number2 = int(input(\"Nhập vào số thứ 2 : \"))\n",
    "    def print_infor(self):\n",
    "        print(f\"số thứ 1 {self.number1}\")\n",
    "        print(f\"số thứ 2 {self.number2}\")\n",
    "    def addition(self):\n",
    "        return self.number1 + self.number2 \n",
    "    def subtract(self):\n",
    "        return self.number1 - self.number2\n",
    "    def multi(self):\n",
    "        return self.number1*self.number2\n",
    "    def division(self):\n",
    "        return round(self.number1/self.number2,2)\n",
    "number = Sohoc()\n",
    "number.input_infor()\n",
    "number.print_infor()\n",
    "print(f\"Tổng 2 số là {number.addition()}\")\n",
    "print(f\"Hiệu 2 số là {number.subtract()}\")\n",
    "print(f\"Tích 2 số là {number.multi()}\")\n",
    "print(f\"thương  2 số là {number.division()}\")   "
   ]
  },
  {
   "cell_type": "code",
   "execution_count": 7,
   "id": "8a6e5db5",
   "metadata": {},
   "outputs": [
    {
     "data": {
      "text/plain": [
       "68"
      ]
     },
     "execution_count": 7,
     "metadata": {},
     "output_type": "execute_result"
    }
   ],
   "source": [
    "number.addition()"
   ]
  }
 ],
 "metadata": {
  "kernelspec": {
   "display_name": "Python 3 (ipykernel)",
   "language": "python",
   "name": "python3"
  },
  "language_info": {
   "codemirror_mode": {
    "name": "ipython",
    "version": 3
   },
   "file_extension": ".py",
   "mimetype": "text/x-python",
   "name": "python",
   "nbconvert_exporter": "python",
   "pygments_lexer": "ipython3",
   "version": "3.10.2"
  }
 },
 "nbformat": 4,
 "nbformat_minor": 5
}
