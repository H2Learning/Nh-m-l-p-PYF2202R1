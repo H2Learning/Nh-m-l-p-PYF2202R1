{
 "cells": [
  {
   "cell_type": "code",
   "execution_count": 3,
   "id": "4abbaa44",
   "metadata": {},
   "outputs": [
    {
     "name": "stdout",
     "output_type": "stream",
     "text": [
      "Nhập số tiền USD cần đổi : 23\n",
      "Nhập tỉ giá USD/VND : 23450\n",
      "Số tiền sau khi quy đổi là 539350.0 Đồng\n"
     ]
    }
   ],
   "source": [
    "# Bài tập quy đổi USD ra VND \n",
    "Usd = int(input(\"Nhập số tiền USD cần đổi : \"))\n",
    "per = float(input(\"Nhập tỉ giá USD/VND : \"))\n",
    "vnd = Usd*per\n",
    "print(f\"Số tiền sau khi quy đổi là {vnd} Đồng\")"
   ]
  }
 ],
 "metadata": {
  "kernelspec": {
   "display_name": "Python 3 (ipykernel)",
   "language": "python",
   "name": "python3"
  },
  "language_info": {
   "codemirror_mode": {
    "name": "ipython",
    "version": 3
   },
   "file_extension": ".py",
   "mimetype": "text/x-python",
   "name": "python",
   "nbconvert_exporter": "python",
   "pygments_lexer": "ipython3",
   "version": "3.10.2"
  }
 },
 "nbformat": 4,
 "nbformat_minor": 5
}
