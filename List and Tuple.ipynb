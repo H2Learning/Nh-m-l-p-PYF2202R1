{
 "cells": [
  {
   "cell_type": "markdown",
   "metadata": {},
   "source": [
    "## Review: type()"
   ]
  },
  {
   "cell_type": "code",
   "execution_count": null,
   "metadata": {},
   "outputs": [],
   "source": [
    "# Python có 4 kiểu dữ liệu cơ bản\n",
    "# 4 kiểu dữ liệu cơ bản là int ,float,boolean,tring "
   ]
  },
  {
   "cell_type": "markdown",
   "metadata": {},
   "source": [
    "## list là gì?"
   ]
  },
  {
   "cell_type": "code",
   "execution_count": null,
   "metadata": {},
   "outputs": [],
   "source": [
    "# Ví dụ\n",
    "diem_van = 5\n",
    "diem_toan = 8\n",
    "diem_anh = 7\n",
    "diem_hoa =6"
   ]
  },
  {
   "cell_type": "code",
   "execution_count": 3,
   "metadata": {},
   "outputs": [
    {
     "name": "stdout",
     "output_type": "stream",
     "text": [
      "monday\n",
      "tuesday\n",
      "sonday\n",
      "--------------------\n",
      "monday\n",
      "tuesday\n",
      "sonday\n"
     ]
    }
   ],
   "source": [
    "# Sử dụng list\n",
    "[1,2,3]\n",
    "[\"hoa\",\"lan\",\"cuong\",\"hung\",\"long\"]\n",
    "[True,False,True]\n",
    "[1,\"python\",True,[1,2,3]]\n",
    "weekdays = [\"monday\",\"tuesday\",\"sonday\"]\n",
    "for key in weekdays :\n",
    "    print(key)\n",
    "print(\"-\"*20)\n",
    "for i in range(len(weekdays)) :\n",
    "    print(weekdays[i])"
   ]
  },
  {
   "cell_type": "markdown",
   "metadata": {},
   "source": [
    "### Thực hành: Viết chương trình tạo ra một list các string khác nhau và đếm tổng số lượng string dài hơn 3 kí tự"
   ]
  },
  {
   "cell_type": "code",
   "execution_count": 5,
   "metadata": {},
   "outputs": [
    {
     "name": "stdout",
     "output_type": "stream",
     "text": [
      "Tổng số lượng string dài hơn 3 ký tự là 4\n"
     ]
    }
   ],
   "source": [
    "list_string = [\"1\",\"2\",\"23\",\"one\",\"two\",\"tvhung\",\"ldlong\",\"nthuong\",\"Nguyenhuy\"]\n",
    "count = 0\n",
    "for key in list_string :\n",
    "    if len(key) > 3 :\n",
    "        count += 1\n",
    "print(f\"Tổng số lượng string dài hơn 3 ký tự là {count}\")"
   ]
  },
  {
   "cell_type": "markdown",
   "metadata": {},
   "source": [
    "### Thực hành 2: Viết chương trình nhận vào 2 list và trả về True nếu 2 list có ít nhất 1 phần tử chung, ngược lại trả về False"
   ]
  },
  {
   "cell_type": "code",
   "execution_count": 69,
   "metadata": {},
   "outputs": [
    {
     "ename": "IndentationError",
     "evalue": "unexpected indent (3371242166.py, line 7)",
     "output_type": "error",
     "traceback": [
      "\u001b[1;36m  Input \u001b[1;32mIn [69]\u001b[1;36m\u001b[0m\n\u001b[1;33m    print(False)\u001b[0m\n\u001b[1;37m    ^\u001b[0m\n\u001b[1;31mIndentationError\u001b[0m\u001b[1;31m:\u001b[0m unexpected indent\n"
     ]
    }
   ],
   "source": [
    "\n",
    "def check(list1,list2):\n",
    "    for i in range(0,len(list1)) :\n",
    "        for j in range(0,len(list2)) :\n",
    "            if list1[i] == list2[j] :\n",
    "                print(True)\n",
    "            break \n",
    "                print(False)\n",
    "\n",
    "check([2,3,\"hung\",56,53,21,34],[\"hung\",\"python\",\"good\",\"student\"])        "
   ]
  },
  {
   "cell_type": "code",
   "execution_count": null,
   "metadata": {},
   "outputs": [],
   "source": []
  },
  {
   "cell_type": "markdown",
   "metadata": {},
   "source": [
    "## Các thao tác cơ bản với list"
   ]
  },
  {
   "cell_type": "markdown",
   "metadata": {},
   "source": [
    "### Kiểm tra độ dài list"
   ]
  },
  {
   "cell_type": "code",
   "execution_count": null,
   "metadata": {},
   "outputs": [],
   "source": []
  },
  {
   "cell_type": "markdown",
   "metadata": {},
   "source": [
    "### Truy cập phần tử trên list"
   ]
  },
  {
   "cell_type": "code",
   "execution_count": null,
   "metadata": {},
   "outputs": [],
   "source": []
  },
  {
   "cell_type": "markdown",
   "metadata": {},
   "source": [
    "### Thực hành: Tạo một list 10 số tự nhiên và in ra các phần tử trong list"
   ]
  },
  {
   "cell_type": "code",
   "execution_count": 37,
   "metadata": {},
   "outputs": [
    {
     "name": "stdout",
     "output_type": "stream",
     "text": [
      "1 2 3 4 5 6 7 8 9 10 "
     ]
    }
   ],
   "source": [
    "number =[1,2,3,4,5,6,7,8,9,10]\n",
    "for i in range(len(number)):\n",
    "    print(number[i],end=\" \")"
   ]
  },
  {
   "cell_type": "code",
   "execution_count": 39,
   "metadata": {},
   "outputs": [
    {
     "name": "stdout",
     "output_type": "stream",
     "text": [
      "1 2 3 4 5 6 7 8 9 10 "
     ]
    }
   ],
   "source": [
    "number = [1,2,3,4,5,6,7,8,9,10]\n",
    "for num in number:\n",
    "    print(num,end= \" \")"
   ]
  },
  {
   "cell_type": "markdown",
   "metadata": {},
   "source": [
    "### Thực hành 2: Tạo ra một list con chưa 2 phần tử cuối cùng từ list đã tạo ở trên"
   ]
  },
  {
   "cell_type": "code",
   "execution_count": 4,
   "metadata": {},
   "outputs": [
    {
     "name": "stdout",
     "output_type": "stream",
     "text": [
      "[9, 10]\n",
      "[9, 10]\n",
      "[9, 10]\n"
     ]
    }
   ],
   "source": [
    "# Tạo ra một list chứa 2 phần tử cuối cùng của list \n",
    "#C1\n",
    "list=[1,2,3,4,5,6,7,8,9,10]\n",
    "sub_list = [list[-2],list[-1]]\n",
    "print(sub_list)\n",
    "#C2\n",
    "sub_list = [list[len(list)-2],list[len(list)-1]]\n",
    "print(sub_list)\n",
    "#C3\n",
    "sub_list = list[-2:]\n",
    "print(sub_list)"
   ]
  },
  {
   "cell_type": "markdown",
   "metadata": {},
   "source": [
    "### Cộng list"
   ]
  },
  {
   "cell_type": "code",
   "execution_count": 5,
   "metadata": {},
   "outputs": [
    {
     "name": "stdout",
     "output_type": "stream",
     "text": [
      "[1, 2, 3, 4, 5, 6]\n"
     ]
    }
   ],
   "source": [
    "a = [1,2,3]\n",
    "b = [4,5,6]\n",
    "c = a + b \n",
    "print(c)"
   ]
  },
  {
   "cell_type": "markdown",
   "metadata": {},
   "source": [
    "### Thực hành: Thêm học sinh vào lớp"
   ]
  },
  {
   "cell_type": "code",
   "execution_count": 20,
   "metadata": {},
   "outputs": [
    {
     "name": "stdout",
     "output_type": "stream",
     "text": [
      "['hung', 'hoa', 'huong', 'tuyet', 'tuan', 'khai']\n",
      "['hung', 'hoa', 'huong', 'tuyet', 'tuan', 'khai', 'gina']\n",
      "['hung', 'hoa', 'huong', 'tuyet', 'tuan', 'khai', 'gina', 'tuan', 'khai']\n"
     ]
    }
   ],
   "source": [
    "# hãy tạo list danh sách của 4 học sinh trong lớp .Ví dụ lớp có thêm 2 học sinh thì viết code để thêm 2 học sinh đó vào \n",
    "List = [\"hung\",\"hoa\",\"huong\",\"tuyet\"]\n",
    "add_List = [\"tuan\",\"khai\"]\n",
    "List += add_List\n",
    "print(List)\n",
    "List.append(\"gina\")\n",
    "print(List)\n",
    "List.extend(add_List)\n",
    "print(List)"
   ]
  },
  {
   "cell_type": "markdown",
   "metadata": {},
   "source": [
    "### Kiểm tra phần tử tồn tại trong list"
   ]
  },
  {
   "cell_type": "code",
   "execution_count": 9,
   "metadata": {},
   "outputs": [
    {
     "name": "stdout",
     "output_type": "stream",
     "text": [
      "True\n",
      "False\n"
     ]
    }
   ],
   "source": [
    "List = [\"hung\",\"hoa\",\"huong\",\"tuyet\"]\n",
    "print(\"hung\" in List)\n",
    "print(\"khai\" in List)"
   ]
  },
  {
   "cell_type": "markdown",
   "metadata": {},
   "source": [
    "### Xóa phần tử khỏi list"
   ]
  },
  {
   "cell_type": "code",
   "execution_count": 12,
   "metadata": {},
   "outputs": [
    {
     "name": "stdout",
     "output_type": "stream",
     "text": [
      "['hung', 'huong', 'tuyet']\n",
      "['hung', 'tuyet']\n"
     ]
    }
   ],
   "source": [
    "#C1\n",
    "List = [\"hung\",\"hoa\",\"huong\",\"tuyet\"]\n",
    "List.remove(List[1])\n",
    "print(List)\n",
    "#C2\n",
    "del List[1]\n",
    "print(List)"
   ]
  },
  {
   "cell_type": "markdown",
   "metadata": {},
   "source": [
    "### Sắp xếp list"
   ]
  },
  {
   "cell_type": "code",
   "execution_count": 15,
   "metadata": {},
   "outputs": [
    {
     "name": "stdout",
     "output_type": "stream",
     "text": [
      "List before Sorting [12, 32, 123, 4563, 1, 223, 53, 12, 32, 1, 2, 45, 6]\n",
      "List after Sorting [1, 1, 2, 6, 12, 12, 32, 32, 45, 53, 123, 223, 4563]\n",
      "List after Sorting [4563, 223, 123, 53, 45, 32, 32, 12, 12, 6, 2, 1, 1]\n"
     ]
    }
   ],
   "source": [
    "List = [12,32,123,4563,1,223,53,12,32,1,2,45,6]\n",
    "print(f\"List before Sorting {List}\")\n",
    "List.sort()\n",
    "print(f\"List after Sorting {List}\")\n",
    "List.sort(reverse = True)\n",
    "# Max => Min \n",
    "print(f\"List after Sorting {List}\")"
   ]
  },
  {
   "cell_type": "code",
   "execution_count": null,
   "metadata": {},
   "outputs": [],
   "source": [
    "# Cách 2 Sorted\n",
    "List = [12,32,123,4563,1,223,53,12,32,1,2,45,6]\n",
    "b = sorted(a,reverse = False)\n",
    "print(b)"
   ]
  },
  {
   "cell_type": "markdown",
   "metadata": {},
   "source": [
    "### Làm rỗng list"
   ]
  },
  {
   "cell_type": "code",
   "execution_count": 16,
   "metadata": {},
   "outputs": [
    {
     "name": "stdout",
     "output_type": "stream",
     "text": [
      "[1, 2, 3]\n",
      "[]\n"
     ]
    }
   ],
   "source": [
    "a = [1,2,3]\n",
    "print(a)\n",
    "a.clear()\n",
    "print(a)"
   ]
  },
  {
   "cell_type": "markdown",
   "metadata": {},
   "source": [
    "### Copy list"
   ]
  },
  {
   "cell_type": "code",
   "execution_count": 18,
   "metadata": {},
   "outputs": [
    {
     "name": "stdout",
     "output_type": "stream",
     "text": [
      "[1, 2, 3]\n",
      "[1, 2, 3]\n"
     ]
    }
   ],
   "source": [
    "a = [1,2,3]\n",
    "print(a)\n",
    "b = a.copy()\n",
    "print(b)"
   ]
  },
  {
   "cell_type": "markdown",
   "metadata": {},
   "source": [
    "## tuple"
   ]
  },
  {
   "cell_type": "code",
   "execution_count": 22,
   "metadata": {},
   "outputs": [
    {
     "name": "stdout",
     "output_type": "stream",
     "text": [
      "3-5-7\n",
      "python 3-5-7 2\n"
     ]
    }
   ],
   "source": [
    "infor =  (\"python\",\"3-5-7\",2)\n",
    "print(infor[1])\n",
    "# unpack tuple \n",
    "course_name,time,duration = infor\n",
    "print(course_name,time,duration)"
   ]
  }
 ],
 "metadata": {
  "kernelspec": {
   "display_name": "Python 3 (ipykernel)",
   "language": "python",
   "name": "python3"
  },
  "language_info": {
   "codemirror_mode": {
    "name": "ipython",
    "version": 3
   },
   "file_extension": ".py",
   "mimetype": "text/x-python",
   "name": "python",
   "nbconvert_exporter": "python",
   "pygments_lexer": "ipython3",
   "version": "3.10.2"
  }
 },
 "nbformat": 4,
 "nbformat_minor": 4
}
