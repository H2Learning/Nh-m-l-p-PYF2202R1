{
 "cells": [
  {
   "cell_type": "markdown",
   "id": "ec00548e",
   "metadata": {},
   "source": [
    "# Thực hành Lớp và Đối Tượng "
   ]
  },
  {
   "cell_type": "markdown",
   "id": "e9a5b1b0",
   "metadata": {},
   "source": [
    "### Bài 1"
   ]
  },
  {
   "cell_type": "markdown",
   "id": "b89649bc",
   "metadata": {},
   "source": [
    "Viết một lớp point để lưu trữ một điểm trong hệ trục tọa độ Oxyz\n",
    "\n",
    "Class này có:\n",
    "\n",
    "<b> Các biến: </b>\n",
    "- <b>x</b>: mang tọa độ x của diểm\n",
    "- <b>y</b>: mang tọa độ y của diểm\n",
    "- <b>z</b>: mang tọa độ z của diểm\n",
    "\n",
    "<b> Các hàm: </b>\n",
    "- <b>khoangcachgoc:</b> hàm này trả về khoảng cách từ điểm đến điểm gốc(0,0,0)\n",
    "- <b>khoangcach(tham số đầu vào là 1 đối tượng có lớp point):</b> hàm này trả về khoảng cách từ điểm đến điểm được đưa vào\n",
    "- <b>diemdoixung:</b> hàm này trả về điểm đối của điểm qua điểm gốc(0,0,0)\n",
    "- <b>diemtrungbinh(tham số đầu vào là 1 đối tượng có lớp point):</b> hàm này trả về điểm nằm chính giữa điểm và điểm được đưa vào"
   ]
  },
  {
   "cell_type": "code",
   "execution_count": 16,
   "id": "ca30ea7d",
   "metadata": {},
   "outputs": [
    {
     "data": {
      "text/plain": [
       "8.12403840463596"
      ]
     },
     "execution_count": 16,
     "metadata": {},
     "output_type": "execute_result"
    }
   ],
   "source": [
    "class Math_coordinate :\n",
    "    def __init__(self, x, y, z):\n",
    "        self.x = x\n",
    "        self.y = y\n",
    "        self.z = z\n",
    "    def calculator_coordinate(self):\n",
    "        return ((self.x)**2 + (self.y)**2 + (self.z)**2)**(0.5)\n",
    "    def calculator_point(self, other):\n",
    "        return ((self.x-other.x)**2 + (self.y-other.y)**2 + (self.z-other.z)**2)**(0.5)\n",
    "    def symmetry_point(self):\n",
    "        return (-self.x,-self.y, -self.z)\n",
    "    def average_point(self, other):\n",
    "        return ((self.x + other.x)/2, (self.y + other.y)/2, (self.z + other.z)/2)\n",
    "a = Math_coordinate(5,4,5)\n",
    "a.calculator_coordinate()"
   ]
  },
  {
   "cell_type": "code",
   "execution_count": 17,
   "id": "284186bd",
   "metadata": {},
   "outputs": [
    {
     "data": {
      "text/plain": [
       "2.0"
      ]
     },
     "execution_count": 17,
     "metadata": {},
     "output_type": "execute_result"
    }
   ],
   "source": [
    "b = Math_coordinate(3,4,5)\n",
    "a.calculator_point(b)"
   ]
  },
  {
   "cell_type": "code",
   "execution_count": 18,
   "id": "fe41b3f4",
   "metadata": {},
   "outputs": [
    {
     "data": {
      "text/plain": [
       "(-5, -4, -5)"
      ]
     },
     "execution_count": 18,
     "metadata": {},
     "output_type": "execute_result"
    }
   ],
   "source": [
    "a.symmetry_point()"
   ]
  },
  {
   "cell_type": "code",
   "execution_count": 20,
   "id": "6af73cb5",
   "metadata": {},
   "outputs": [
    {
     "data": {
      "text/plain": [
       "(5.0, 4.0, 5.5)"
      ]
     },
     "execution_count": 20,
     "metadata": {},
     "output_type": "execute_result"
    }
   ],
   "source": [
    "c = Math_coordinate(5,4,6)\n",
    "a.everage_point(c)"
   ]
  },
  {
   "cell_type": "code",
   "execution_count": null,
   "id": "4c361791",
   "metadata": {},
   "outputs": [],
   "source": [
    "class Point:\n",
    "    def __init__(self, x, y, z):\n",
    "        self.x = x\n",
    "        self.y = y\n",
    "        self.z = z\n",
    "        \n",
    "    def khoangcachgoc(self):\n",
    "        # O(0, 0, 0)\n",
    "        khoang_cach_goc = (self.x**2 + self.y**2 + self.z**2) ** (1/2)\n",
    "        return khoang_cach_goc\n",
    "    \n",
    "    def khoangcach(self, other):\n",
    "        khoang_cach = ((self.x - other.x)**2 + (self.y - other.y)**2 + (self.z - other.z)**2)**(1/2)\n",
    "        return khoang_cach\n",
    "    \n",
    "    def diemdoixung(self):\n",
    "        # (-4, 5, -10)\n",
    "        x1 = - self.x\n",
    "        y1 = - self.y\n",
    "        z1 = - self.z\n",
    "        return Point(x1, y1, z1)\n",
    "    \n",
    "    def diemtrungbinh(self, other):\n",
    "        x2 = (self.x + other.x)/2\n",
    "        y2 = (self.y + other.y)/2\n",
    "        z2 = (self.z + other.z)/2\n",
    "        return Point(x2, y2, z2)\n"
   ]
  }
 ],
 "metadata": {
  "kernelspec": {
   "display_name": "Python 3 (ipykernel)",
   "language": "python",
   "name": "python3"
  },
  "language_info": {
   "codemirror_mode": {
    "name": "ipython",
    "version": 3
   },
   "file_extension": ".py",
   "mimetype": "text/x-python",
   "name": "python",
   "nbconvert_exporter": "python",
   "pygments_lexer": "ipython3",
   "version": "3.10.2"
  }
 },
 "nbformat": 4,
 "nbformat_minor": 5
}
