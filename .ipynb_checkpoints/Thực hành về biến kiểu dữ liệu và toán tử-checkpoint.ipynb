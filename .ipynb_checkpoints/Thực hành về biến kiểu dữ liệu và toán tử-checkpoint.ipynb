{
 "cells": [
  {
   "cell_type": "code",
   "execution_count": 2,
   "id": "99d45e2b",
   "metadata": {},
   "outputs": [],
   "source": [
    "#Thực hành vẽ mặt cười \n",
    "import turtle\n",
    "pen = turtle.Turtle()\n",
    "pen.pensize(5)\n",
    "pen.pencolor(\"#EE340C\")\n",
    "pen.shape(\"circle\")\n",
    "pen.penup()\n",
    "pen.goto(0, - 200)\n",
    "facesize = 200\n",
    "eye_size = 15\n",
    "nose_size = 70\n",
    "pen.pendown\n",
    "pen.pencircle(facesize)\n",
    "\n",
    "pen.penup()\n",
    "pen.goto(- 50, 100)\n",
    "#draw an eye\n",
    "pen.pendown\n",
    "\n",
    "turtle.done()"
   ]
  },
  {
   "cell_type": "code",
   "execution_count": null,
   "id": "6c7770ef",
   "metadata": {},
   "outputs": [],
   "source": [
    "import turtle\n",
    "#define pen size\n",
    "turtle.pensize(5) \n",
    "#define pen color\n",
    "turtle.pencolor(\"#0CEE4C\") \n",
    "#for outer bigger circle\n",
    "facesize = 200\n",
    "turtle.penup()\n",
    "turtle.goto(0, -200)\n",
    "turtle.pendown()\n",
    "turtle.circle(facesize)\n",
    "#for eyes\n",
    "#Màu nền mắt là màu đỏ\n",
    "turtle.fillcolor (\"#0CEE4C\")\n",
    "turtle.penup()\n",
    "turtle.goto(-100,50)\n",
    "turtle.pendown()\n",
    " \n",
    "# khai bao bien eyesize lưu kích thước mắt\n",
    "eye_size = 17.5\n",
    " \n",
    "turtle.begin_fill()\n",
    "turtle.circle(eye_size)\n",
    "turtle.end_fill()\n",
    "turtle.penup()\n",
    " \n",
    "turtle.goto(100,50)\n",
    "turtle.pendown()\n",
    "turtle.begin_fill()\n",
    "turtle.circle(eye_size)\n",
    "turtle.end_fill()\n",
    "#for nose\n",
    "turtle.penup ()\n",
    "turtle.goto(0,50)\n",
    "turtle.pendown()\n",
    "turtle.circle(-70, steps=3)\n",
    "# for smile\n",
    "turtle.penup()\n",
    "turtle.goto(-100, -70)\n",
    "turtle.pendown()\n",
    "turtle.right(90)\n",
    "turtle.circle(100,180)\n",
    "turtle.mainloop()\n",
    "turtle.done()"
   ]
  },
  {
   "cell_type": "code",
   "execution_count": 12,
   "id": "64cb9956",
   "metadata": {},
   "outputs": [],
   "source": [
    "#Thực hành tính diện tích của tam giác.\n",
    "a = 10\n",
    "b = 5\n",
    "c = 7\n",
    "p = (a + b +c)/2\n",
    "s = p*(p-a)*(p-b)*(p-c) ** 0.5 \n",
    "\n"
   ]
  },
  {
   "cell_type": "code",
   "execution_count": null,
   "id": "dbaf3946",
   "metadata": {},
   "outputs": [],
   "source": []
  },
  {
   "cell_type": "code",
   "execution_count": null,
   "id": "59f1c0dd",
   "metadata": {},
   "outputs": [],
   "source": []
  }
 ],
 "metadata": {
  "kernelspec": {
   "display_name": "Python 3 (ipykernel)",
   "language": "python",
   "name": "python3"
  },
  "language_info": {
   "codemirror_mode": {
    "name": "ipython",
    "version": 3
   },
   "file_extension": ".py",
   "mimetype": "text/x-python",
   "name": "python",
   "nbconvert_exporter": "python",
   "pygments_lexer": "ipython3",
   "version": "3.10.2"
  }
 },
 "nbformat": 4,
 "nbformat_minor": 5
}
